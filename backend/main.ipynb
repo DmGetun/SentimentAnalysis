{
 "cells": [
  {
   "cell_type": "code",
   "execution_count": 1,
   "metadata": {},
   "outputs": [],
   "source": [
    "from dostoevsky.tokenization import RegexTokenizer\n",
    "from dostoevsky.models import FastTextSocialNetworkModel"
   ]
  },
  {
   "cell_type": "code",
   "execution_count": 5,
   "metadata": {},
   "outputs": [
    {
     "name": "stdout",
     "output_type": "stream",
     "text": [
      "Сегодня хорошая погода -&gt; {'positive': 0.9879562258720398, 'negative': 0.01323282066732645}\n",
      "Я счастлив проводить с тобою время -&gt; {'positive': 0.5000100135803223, 'skip': 0.38492217659950256}\n",
      "Мне нравится эта музыкальная композиция -&gt; {'positive': 0.9637899398803711, 'neutral': 0.21734751760959625}\n",
      "В больнице была ужасная очередь -&gt; {'negative': 0.9903015494346619, 'skip': 0.1520422399044037}\n",
      "Сосед с верхнего этажа мешает спать -&gt; {'neutral': 0.839743971824646, 'negative': 0.18714269995689392}\n",
      "Маленькая девочка потерялась в торговом центре -&gt; {'neutral': 0.23935934901237488, 'skip': 0.1778208613395691}\n",
      "Сегодня я не смог увидеться со своим другом и мне грустно -&gt; {'negative': 0.3276783227920532, 'positive': 0.23371636867523193}\n"
     ]
    },
    {
     "name": "stderr",
     "output_type": "stream",
     "text": [
      "Warning : `load_model` does not return WordVectorModel or SupervisedModel any more, but a `FastText` object which is very similar.\n"
     ]
    }
   ],
   "source": [
    "tokenizer = RegexTokenizer()\n",
    "model = FastTextSocialNetworkModel(tokenizer=tokenizer)\n",
    "\n",
    "messages = [\n",
    "    'Сегодня хорошая погода',\n",
    "    'Я счастлив проводить с тобою время',\n",
    "    'Мне нравится эта музыкальная композиция',\n",
    "    'В больнице была ужасная очередь',\n",
    "    'Сосед с верхнего этажа мешает спать',\n",
    "    'Маленькая девочка потерялась в торговом центре',\n",
    "    'Сегодня я не смог увидеться со своим другом и мне грустно'\n",
    "]\n",
    "\n",
    "results = model.predict(messages, k=2)\n",
    "for message, sentiment in zip(messages, results):\n",
    "    print(message, '-&gt;', sentiment)"
   ]
  }
 ],
 "metadata": {
  "kernelspec": {
   "display_name": "Python 3",
   "language": "python",
   "name": "python3"
  },
  "language_info": {
   "codemirror_mode": {
    "name": "ipython",
    "version": 3
   },
   "file_extension": ".py",
   "mimetype": "text/x-python",
   "name": "python",
   "nbconvert_exporter": "python",
   "pygments_lexer": "ipython3",
   "version": "3.10.7"
  },
  "orig_nbformat": 4,
  "vscode": {
   "interpreter": {
    "hash": "916dbcbb3f70747c44a77c7bcd40155683ae19c65e1c03b4aa3499c5328201f1"
   }
  }
 },
 "nbformat": 4,
 "nbformat_minor": 2
}
